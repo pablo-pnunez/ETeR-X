{
 "cells": [
  {
   "cell_type": "markdown",
   "metadata": {},
   "source": [
    "## Recommendation example"
   ]
  },
  {
   "cell_type": "markdown",
   "metadata": {},
   "source": [
    "### 1. Unzip pre-trained model\n",
    "This will unzip the pre-trained ETeR-X model for the dataset: Restaurants of NewYorkCity"
   ]
  },
  {
   "cell_type": "code",
   "execution_count": null,
   "metadata": {},
   "outputs": [],
   "source": [
    "! unzip sample_model.zip"
   ]
  },
  {
   "cell_type": "markdown",
   "metadata": {},
   "source": [
    "### 2. Load model"
   ]
  },
  {
   "cell_type": "code",
   "execution_count": null,
   "metadata": {},
   "outputs": [],
   "source": [
    "from src.experiments.Common import load_best_model\n",
    "\n",
    "model_name = \"BOW2ITM\" # This is the internal name of ETeR-X.\n",
    "dataset = \"restaurants\" # Restaurants dataset\n",
    "subset = \"newyorkcity\" # NYC subset\n",
    "\n",
    "# Load best hyperparameters\n",
    "model = load_best_model(model=model_name, dataset=dataset, subset=subset)\n",
    "# Load model weights\n",
    "model.train(dev=False, save_model=True)"
   ]
  },
  {
   "cell_type": "markdown",
   "metadata": {},
   "source": [
    "### 3. Evaluate queries and obtain recommendations\n",
    "Legend:\n",
    "* ▲ Relevant words in the item.\n",
    "* ∩ Intersection between the query and ▲."
   ]
  },
  {
   "cell_type": "code",
   "execution_count": null,
   "metadata": {},
   "outputs": [],
   "source": [
    "# Evaluate the model\n",
    "model.eval_custom_text(\"Where can I eat the typical pastrami sandwich?\")"
   ]
  }
 ],
 "metadata": {
  "kernelspec": {
   "display_name": "ETeR-X",
   "language": "python",
   "name": "python3"
  },
  "language_info": {
   "codemirror_mode": {
    "name": "ipython",
    "version": 3
   },
   "file_extension": ".py",
   "mimetype": "text/x-python",
   "name": "python",
   "nbconvert_exporter": "python",
   "pygments_lexer": "ipython3",
   "version": "3.9.18"
  }
 },
 "nbformat": 4,
 "nbformat_minor": 2
}
