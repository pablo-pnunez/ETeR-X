{
 "cells": [
  {
   "cell_type": "markdown",
   "metadata": {},
   "source": [
    "## Recommendation example"
   ]
  },
  {
   "cell_type": "markdown",
   "metadata": {},
   "source": [
    "### 1. Unzip pre-trained model\n",
    "This will unzip the pre-trained ETeR-X model for the dataset: Restaurants of NewYorkCity"
   ]
  },
  {
   "cell_type": "code",
   "execution_count": null,
   "metadata": {},
   "outputs": [],
   "source": [
    "! unzip sample_model.zip"
   ]
  },
  {
   "cell_type": "markdown",
   "metadata": {},
   "source": [
    "### 2. Load model"
   ]
  },
  {
   "cell_type": "code",
   "execution_count": null,
   "metadata": {},
   "outputs": [],
   "source": [
    "from src.experiments.Common import load_best_model\n",
    "\n",
    "model_name = \"BOW2ITM\" # This is the internal name of ETeR-X.\n",
    "dataset = \"restaurants\" # Restaurants dataset\n",
    "subset = \"newyorkcity\" # NYC subset\n",
    "\n",
    "# Load best hyperparameters\n",
    "model = load_best_model(model=model_name, dataset=dataset, subset=subset)\n",
    "# Load model weights\n",
    "model.train(dev=False, save_model=True)"
   ]
  },
  {
   "cell_type": "markdown",
   "metadata": {},
   "source": [
    "### 3. Evaluate queries and obtain recommendations\n",
    "Legend:\n",
    "* ▲ Relevant words in the item.\n",
    "* ∩ Intersection between the query and ▲."
   ]
  },
  {
   "cell_type": "code",
   "execution_count": 2,
   "metadata": {},
   "outputs": [
    {
     "name": "stderr",
     "output_type": "stream",
     "text": [
      "/media/nas/pperez/conda/ns3/envs/ETeR-X/lib/python3.9/site-packages/sklearn/utils/validation.py:723: FutureWarning: np.matrix usage is deprecated in 1.0 and will raise a TypeError in 1.2. Please convert to a numpy array with np.asarray. For more information see: https://numpy.org/doc/stable/reference/generated/numpy.matrix.html\n",
      "  warnings.warn(\n",
      "2024-06-05 10:41:07.483284: I external/local_tsl/tsl/platform/default/subprocess.cc:304] Start cannot spawn child process: No such file or directory\n"
     ]
    },
    {
     "name": "stdout",
     "output_type": "stream",
     "text": [
      "\n",
      "\n",
      "\u001b[92m[INFO] 'Where can I eat the typical pastrami sandwich?'\u001b[0m\n",
      "\tBOW: pastrami,sandwich,typical\n",
      "\t1) Pastrami Queen\n",
      "\t\t▲ queen,pastrami,kosher,met,knish,lexington,deli,metropolitan,garlic,tiny,anthony,gigantic,jewish,limited,museum,upper,crunch,pickle,handful,unprofessional\n",
      "\t\t∩ pastrami,sandwich,typical\n",
      "\t2) Blooms Delicatessen\n",
      "\t\t▲ deli,free,gf,pickle,typical,grand,slaw,cole,kosher,banana,truth,amount,cup,coleslaw,nonsense,similar,celiac,omelette,lox,toilet\n",
      "\t\t∩ pastrami,sandwich,typical\n",
      "\t3) Eisenberg's Sandwich Shop\n",
      "\t\t▲ flatiron,narrow,counter,reuben,iron,stool,cashier,tuna,building,vintage,ring,step,rueben,fountain,health,paint,shop,fat,grit,liver\n",
      "\t\t∩ pastrami,sandwich,typical\n",
      "\t4) Katz's Deli\n",
      "\t\t▲ harry,katz,cutter,ticket,houston,pastrami,iconic,salami,ryan,landmark,chaos,security,history,deli,ruben,film,institution,confusing,pickle,jewish\n",
      "\t\t∩ pastrami,sandwich,typical\n"
     ]
    }
   ],
   "source": [
    "# Evaluate the model\n",
    "model.eval_custom_text(\"Where can I eat the typical pastrami sandwich?\")"
   ]
  }
 ],
 "metadata": {
  "kernelspec": {
   "display_name": "ETeR-X",
   "language": "python",
   "name": "python3"
  },
  "language_info": {
   "codemirror_mode": {
    "name": "ipython",
    "version": 3
   },
   "file_extension": ".py",
   "mimetype": "text/x-python",
   "name": "python",
   "nbconvert_exporter": "python",
   "pygments_lexer": "ipython3",
   "version": "3.9.18"
  }
 },
 "nbformat": 4,
 "nbformat_minor": 2
}
