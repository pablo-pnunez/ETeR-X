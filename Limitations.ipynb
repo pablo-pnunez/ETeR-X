{
 "cells": [
  {
   "cell_type": "markdown",
   "metadata": {},
   "source": [
    "# Limitations"
   ]
  },
  {
   "cell_type": "markdown",
   "metadata": {},
   "source": [
    "## Load one model for each dataset"
   ]
  },
  {
   "cell_type": "code",
   "execution_count": null,
   "metadata": {},
   "outputs": [],
   "source": [
    "from src.experiments.Common import load_best_model\n",
    "\n",
    "model_name = \"BOW2ITM\" # This is the internal name of ETeR-X.\n",
    "dataset = \"restaurants\" # Restaurants dataset\n",
    "subset = \"newyorkcity\" # NYC subset\n",
    "\n",
    "# Load best hyperparameters\n",
    "model_r = load_best_model(model=model_name, dataset=dataset, subset=subset)\n",
    "# Load model weights\n",
    "model_r.train(dev=False, save_model=True)\n",
    "\n",
    "\n",
    "dataset = \"pois\" # Restaurants dataset\n",
    "subset = \"newyorkcity\" # NYC subset\n",
    "# Load best hyperparameters\n",
    "model_p = load_best_model(model=model_name, dataset=dataset, subset=subset)\n",
    "# Load model weights\n",
    "model_p.train(dev=False, save_model=True)\n",
    "\n",
    "\n",
    "dataset = \"amazon\" # Restaurants dataset\n",
    "subset = \"fashion\" # NYC subset\n",
    "# Load best hyperparameters\n",
    "model_a = load_best_model(model=model_name, dataset=dataset, subset=subset)\n",
    "# Load model weights\n",
    "model_a.train(dev=False, save_model=True)"
   ]
  },
  {
   "cell_type": "markdown",
   "metadata": {},
   "source": [
    "## *Scenario 1:* Lack of adjectives or nouns\n",
    "Legend:\n",
    "* ▲ Relevant words in the item.\n",
    "* ∩ Intersection between the query and ▲."
   ]
  },
  {
   "cell_type": "code",
   "execution_count": 2,
   "metadata": {},
   "outputs": [
    {
     "name": "stderr",
     "output_type": "stream",
     "text": [
      "/media/nas/pperez/conda/ns3/envs/ETeR-X/lib/python3.9/site-packages/sklearn/utils/validation.py:723: FutureWarning: np.matrix usage is deprecated in 1.0 and will raise a TypeError in 1.2. Please convert to a numpy array with np.asarray. For more information see: https://numpy.org/doc/stable/reference/generated/numpy.matrix.html\n",
      "  warnings.warn(\n",
      "2024-10-16 15:48:21.619977: I external/local_tsl/tsl/platform/default/subprocess.cc:304] Start cannot spawn child process: No such file or directory\n"
     ]
    },
    {
     "name": "stdout",
     "output_type": "stream",
     "text": [
      "\n",
      "\n",
      "\u001b[92m[INFO] 'What do you recommend me to buy?'\u001b[0m\n",
      "\tBOW: \n",
      "\t1) 10 Page 20 Card Plastic Wallet Insert for Bifold Business Credit Card Holds\n",
      "\t\t▲ wallet,card,insert,plastic,holder,center,bulky,thick,separate,slot,clear,credit,double,sleeve,search,durable,daily,sturdy,replacement,stiff\n",
      "\t\t∩ \n",
      "\t2) Fashion Brand 925 Sterling Silver Heart Love Chain Bracelet\n",
      "\t\t▲ bracelet,wrist,silver,jewelry,rate,clasp,young,delicate,adult,total,tiny,afraid,chain,child,weather,stuff,mark,minute,refund,pic\n",
      "\t\t∩ \n",
      "\t3) Vans Adult Classic Slip-On, (Checkerboard) Black/Pewter\n",
      "\t\t▲ van,slip,shoe,sole,classic,separate,narrow,man,casual,standard,half,white,original,woman,width,arch,rough,store,normal,sneaker\n",
      "\t\t∩ \n",
      "\t4) Powerstep Pinnacle Orthotic Shoe Insoles\n",
      "\t\t▲ insert,insole,podiatrist,foot,orthotic,running,supportive,athletic,powerstep,doctor,custom,pinnacle,support,shoe,step,arch,pain,pad,padding,plantar\n",
      "\t\t∩ \n",
      "\n",
      "\n",
      "\u001b[92m[INFO] 'What can i buy?'\u001b[0m\n",
      "\tBOW: \n",
      "\t1) 10 Page 20 Card Plastic Wallet Insert for Bifold Business Credit Card Holds\n",
      "\t\t▲ wallet,card,insert,plastic,holder,center,bulky,thick,separate,slot,clear,credit,double,sleeve,search,durable,daily,sturdy,replacement,stiff\n",
      "\t\t∩ \n",
      "\t2) Fashion Brand 925 Sterling Silver Heart Love Chain Bracelet\n",
      "\t\t▲ bracelet,wrist,silver,jewelry,rate,clasp,young,delicate,adult,total,tiny,afraid,chain,child,weather,stuff,mark,minute,refund,pic\n",
      "\t\t∩ \n",
      "\t3) Vans Adult Classic Slip-On, (Checkerboard) Black/Pewter\n",
      "\t\t▲ van,slip,shoe,sole,classic,separate,narrow,man,casual,standard,half,white,original,woman,width,arch,rough,store,normal,sneaker\n",
      "\t\t∩ \n",
      "\t4) Powerstep Pinnacle Orthotic Shoe Insoles\n",
      "\t\t▲ insert,insole,podiatrist,foot,orthotic,running,supportive,athletic,powerstep,doctor,custom,pinnacle,support,shoe,step,arch,pain,pad,padding,plantar\n",
      "\t\t∩ \n"
     ]
    },
    {
     "name": "stderr",
     "output_type": "stream",
     "text": [
      "/media/nas/pperez/conda/ns3/envs/ETeR-X/lib/python3.9/site-packages/sklearn/utils/validation.py:723: FutureWarning: np.matrix usage is deprecated in 1.0 and will raise a TypeError in 1.2. Please convert to a numpy array with np.asarray. For more information see: https://numpy.org/doc/stable/reference/generated/numpy.matrix.html\n",
      "  warnings.warn(\n"
     ]
    }
   ],
   "source": [
    "model_a.eval_custom_text(\"What do you recommend me to buy?\")\n",
    "model_a.eval_custom_text(\"What can i buy?\")"
   ]
  },
  {
   "cell_type": "code",
   "execution_count": 3,
   "metadata": {},
   "outputs": [
    {
     "name": "stdout",
     "output_type": "stream",
     "text": [
      "\n",
      "\n",
      "\u001b[92m[INFO] '¿Qué me recomiendas visitar?'\u001b[0m\n",
      "\tBOW: \n",
      "\t1) Observatorio Top of the Rock\n",
      "\t\t▲ turno,cristal,complejo,elevador,vidrio,empire,cima,nivel,rockefeller,observatorio,ascensor,nublado,altura,camara,chrysler,terraza,vistas,acceso,situado,vista\n",
      "\t\t∩ \n",
      "\t2) Neue Galerie\n",
      "\t\t▲ dedicado,cuadro,estrella,siglo,galeria,cafe,principio,regalo,met,joya,muestra,exhibicion,pequeño,dudas,voluntario,pintura,sero,cafeteria,shop,chico\n",
      "\t\t∩ \n",
      "\t3) Meatpacking District\n",
      "\t\t▲ moda,distrito,high,viejo,barrio,museum,meatpacking,trav,recorri,bar,district,permanente,anticipacion,west,nocturno,diseño,line,restaurante,esquina,market\n",
      "\t\t∩ \n",
      "\t4) Love Sculpture\n",
      "\t\t▲ escultura,art,moma,turno,esquina,zapato,similar,romantico,icono,tipica,foto,tenia,buenisimo,vivo,tamaño,th,disponible,situado,viajero,urbano\n",
      "\t\t∩ \n",
      "\n",
      "\n",
      "\u001b[92m[INFO] '¿Qué puedo visitar?'\u001b[0m\n",
      "\tBOW: \n",
      "\t1) Observatorio Top of the Rock\n",
      "\t\t▲ turno,cristal,complejo,elevador,vidrio,empire,cima,nivel,rockefeller,observatorio,ascensor,nublado,altura,camara,chrysler,terraza,vistas,acceso,situado,vista\n",
      "\t\t∩ \n",
      "\t2) Neue Galerie\n",
      "\t\t▲ dedicado,cuadro,estrella,siglo,galeria,cafe,principio,regalo,met,joya,muestra,exhibicion,pequeño,dudas,voluntario,pintura,sero,cafeteria,shop,chico\n",
      "\t\t∩ \n",
      "\t3) Meatpacking District\n",
      "\t\t▲ moda,distrito,high,viejo,barrio,museum,meatpacking,trav,recorri,bar,district,permanente,anticipacion,west,nocturno,diseño,line,restaurante,esquina,market\n",
      "\t\t∩ \n",
      "\t4) Love Sculpture\n",
      "\t\t▲ escultura,art,moma,turno,esquina,zapato,similar,romantico,icono,tipica,foto,tenia,buenisimo,vivo,tamaño,th,disponible,situado,viajero,urbano\n",
      "\t\t∩ \n"
     ]
    },
    {
     "name": "stderr",
     "output_type": "stream",
     "text": [
      "/media/nas/pperez/conda/ns3/envs/ETeR-X/lib/python3.9/site-packages/sklearn/utils/validation.py:723: FutureWarning: np.matrix usage is deprecated in 1.0 and will raise a TypeError in 1.2. Please convert to a numpy array with np.asarray. For more information see: https://numpy.org/doc/stable/reference/generated/numpy.matrix.html\n",
      "  warnings.warn(\n",
      "/media/nas/pperez/conda/ns3/envs/ETeR-X/lib/python3.9/site-packages/sklearn/utils/validation.py:723: FutureWarning: np.matrix usage is deprecated in 1.0 and will raise a TypeError in 1.2. Please convert to a numpy array with np.asarray. For more information see: https://numpy.org/doc/stable/reference/generated/numpy.matrix.html\n",
      "  warnings.warn(\n"
     ]
    }
   ],
   "source": [
    "model_p.eval_custom_text(\"¿Qué me recomiendas visitar?\")\n",
    "model_p.eval_custom_text(\"¿Qué puedo visitar?\")"
   ]
  },
  {
   "cell_type": "code",
   "execution_count": 4,
   "metadata": {},
   "outputs": [
    {
     "name": "stderr",
     "output_type": "stream",
     "text": [
      "/media/nas/pperez/conda/ns3/envs/ETeR-X/lib/python3.9/site-packages/sklearn/utils/validation.py:723: FutureWarning: np.matrix usage is deprecated in 1.0 and will raise a TypeError in 1.2. Please convert to a numpy array with np.asarray. For more information see: https://numpy.org/doc/stable/reference/generated/numpy.matrix.html\n",
      "  warnings.warn(\n",
      "/media/nas/pperez/conda/ns3/envs/ETeR-X/lib/python3.9/site-packages/sklearn/utils/validation.py:723: FutureWarning: np.matrix usage is deprecated in 1.0 and will raise a TypeError in 1.2. Please convert to a numpy array with np.asarray. For more information see: https://numpy.org/doc/stable/reference/generated/numpy.matrix.html\n",
      "  warnings.warn(\n"
     ]
    },
    {
     "name": "stdout",
     "output_type": "stream",
     "text": [
      "\n",
      "\n",
      "\u001b[92m[INFO] 'Where do you recommend me to eat?'\u001b[0m\n",
      "\tBOW: \n",
      "\t1) Katz's Deli\n",
      "\t\t▲ harry,katz,cutter,ticket,houston,pastrami,iconic,salami,ryan,landmark,chaos,security,history,deli,ruben,film,institution,confusing,pickle,jewish\n",
      "\t\t∩ \n",
      "\t2) Beard Papa Sweets Cafe\n",
      "\t\t▲ puff,cream,creamy,filling,japanese,soggy,shell,vanilla,drawback,open,subway,unfortunate,creme,craving,lava,version,cute,chocolate,fortunate,worker\n",
      "\t\t∩ \n",
      "\t3) Levain Bakery\n",
      "\t\t▲ cookie,amsterdam,stair,bakery,basement,brioche,scone,stool,levain,tall,bomb,tripadvisor,consistency,closing,tiny,nibble,oven,undercooked,muffin,baguette\n",
      "\t\t∩ \n",
      "\t4) Ellen's Stardust Diner\n",
      "\t\t▲ singing,singer,singe,ellen,entertainment,talent,talented,bucket,song,entertaining,voice,performer,performance,rainbow,stardust,musical,info,que,belt,queue\n",
      "\t\t∩ \n",
      "\n",
      "\n",
      "\u001b[92m[INFO] 'Where can i eat?'\u001b[0m\n",
      "\tBOW: \n",
      "\t1) Katz's Deli\n",
      "\t\t▲ harry,katz,cutter,ticket,houston,pastrami,iconic,salami,ryan,landmark,chaos,security,history,deli,ruben,film,institution,confusing,pickle,jewish\n",
      "\t\t∩ \n",
      "\t2) Beard Papa Sweets Cafe\n",
      "\t\t▲ puff,cream,creamy,filling,japanese,soggy,shell,vanilla,drawback,open,subway,unfortunate,creme,craving,lava,version,cute,chocolate,fortunate,worker\n",
      "\t\t∩ \n",
      "\t3) Levain Bakery\n",
      "\t\t▲ cookie,amsterdam,stair,bakery,basement,brioche,scone,stool,levain,tall,bomb,tripadvisor,consistency,closing,tiny,nibble,oven,undercooked,muffin,baguette\n",
      "\t\t∩ \n",
      "\t4) Ellen's Stardust Diner\n",
      "\t\t▲ singing,singer,singe,ellen,entertainment,talent,talented,bucket,song,entertaining,voice,performer,performance,rainbow,stardust,musical,info,que,belt,queue\n",
      "\t\t∩ \n"
     ]
    }
   ],
   "source": [
    "model_r.eval_custom_text(\"Where do you recommend me to eat?\")\n",
    "model_r.eval_custom_text(\"Where can i eat?\")"
   ]
  },
  {
   "cell_type": "markdown",
   "metadata": {},
   "source": [
    "### Are ranked by relevance?"
   ]
  },
  {
   "cell_type": "code",
   "execution_count": 5,
   "metadata": {},
   "outputs": [
    {
     "data": {
      "text/plain": [
       "name\n",
       "Powerstep Pinnacle Orthotic Shoe Insoles                                                     7267\n",
       "MJ Metals Jewelry 2mm to 10mm White Tungsten Carbide Mirror Polished Classic Wedding Ring    3558\n",
       "90 Degree By Reflex Power Flex Yoga Capri – Cationic Heather Activewear Pants                3313\n",
       "Hanes Mens EcoSmart Fleece Sweatpant                                                         3265\n",
       "dtype: int64"
      ]
     },
     "execution_count": 5,
     "metadata": {},
     "output_type": "execute_result"
    }
   ],
   "source": [
    "model_a.DATASET.DATA[\"TRAIN_DEV\"].groupby(\"name\").size().sort_values(ascending=False)[:4]"
   ]
  },
  {
   "cell_type": "code",
   "execution_count": 6,
   "metadata": {},
   "outputs": [
    {
     "data": {
      "text/plain": [
       "name\n",
       "Central Park                    14881\n",
       "Observatorio Top of the Rock     8883\n",
       "Empire State Building            8022\n",
       "Memorial del 11S                 7158\n",
       "dtype: int64"
      ]
     },
     "execution_count": 6,
     "metadata": {},
     "output_type": "execute_result"
    }
   ],
   "source": [
    "model_p.DATASET.DATA[\"TRAIN_DEV\"].groupby(\"name\").size().sort_values(ascending=False)[:4]"
   ]
  },
  {
   "cell_type": "code",
   "execution_count": 7,
   "metadata": {},
   "outputs": [
    {
     "data": {
      "text/plain": [
       "name\n",
       "Ellen's Stardust Diner    13874\n",
       "Katz's Deli               10656\n",
       "Junior's                   6902\n",
       "Eataly                     6678\n",
       "dtype: int64"
      ]
     },
     "execution_count": 7,
     "metadata": {},
     "output_type": "execute_result"
    }
   ],
   "source": [
    "model_r.DATASET.DATA[\"TRAIN_DEV\"].groupby(\"name\").size().sort_values(ascending=False)[:4]"
   ]
  },
  {
   "cell_type": "markdown",
   "metadata": {},
   "source": [
    "### Are ranked by percentage of empty reviews?"
   ]
  },
  {
   "cell_type": "code",
   "execution_count": 8,
   "metadata": {},
   "outputs": [
    {
     "name": "stdout",
     "output_type": "stream",
     "text": [
      "name\n",
      "1pair Steel Love Heart Nipple Shield Bar Ring Body Piercing Jewelry                    0.119658\n",
      "Ninimour- Women's Winter Knit Crochet Leg Warmers Legging (Black)                      0.119266\n",
      "Vintage Hearts Clip On Non Pierce Nipple Rings - Sold as Pair by Pierced Owl           0.116071\n",
      "Lisli® Woman Lace Perspective Lingerie Sleepwear Night Dress Pajamas With Eye Patch    0.115789\n",
      "dtype: float64\n"
     ]
    }
   ],
   "source": [
    "def get_pctg_empty_reviews(model, top=4):\n",
    "    ret = model.DATASET.DATA[\"TRAIN_DEV\"].groupby(\"name\").apply(lambda x:1-((model.DATASET.DATA[\"BOW_SEQUENCES\"][x[\"bow\"].values].sum(axis=1).sum())/len(x))).sort_values(ascending=False).head(top)\n",
    "    print(ret)\n",
    "    \n",
    "get_pctg_empty_reviews(model_a)"
   ]
  },
  {
   "cell_type": "code",
   "execution_count": 9,
   "metadata": {},
   "outputs": [
    {
     "name": "stdout",
     "output_type": "stream",
     "text": [
      "name\n",
      "St Joseph's Chapel Catholic Memorial at Ground Zero    0.004292\n",
      "Strawberry Fields, John Lennon Memorial                0.003546\n",
      "Capilla de San Pablo                                   0.003185\n",
      "Chrysler Building                                      0.002020\n",
      "dtype: float64\n"
     ]
    }
   ],
   "source": [
    "get_pctg_empty_reviews(model_p)"
   ]
  },
  {
   "cell_type": "code",
   "execution_count": 10,
   "metadata": {},
   "outputs": [
    {
     "name": "stdout",
     "output_type": "stream",
     "text": [
      "name\n",
      "Beard Papa Sweets Cafe    0.029126\n",
      "Nyonya                    0.012346\n",
      "Perilla                   0.011765\n",
      "Tenzan                    0.011111\n",
      "dtype: float64\n"
     ]
    }
   ],
   "source": [
    "get_pctg_empty_reviews(model_r)"
   ]
  },
  {
   "cell_type": "markdown",
   "metadata": {},
   "source": [
    "## *Scenario 2:* Negation adverbs"
   ]
  },
  {
   "cell_type": "code",
   "execution_count": 11,
   "metadata": {},
   "outputs": [
    {
     "name": "stdout",
     "output_type": "stream",
     "text": [
      "\n",
      "\n",
      "\u001b[92m[INFO] 'I want a shirt in any color but black'\u001b[0m\n",
      "\tBOW: black,color,shirt\n",
      "\t1) Berlioni Boy's Dress Shirt, Necktie, and Hanky Set - Many Color and Pattern combinations\n",
      "\t\t▲ tie,shirt,experience,boy,elastic,wedding,pin,noticeable,non,afraid,purple,exact,occasion,bright,age,suit,son,actual,arm,tough\n",
      "\t\t∩ black,color,shirt\n",
      "\t2) Cocobla Women Boat Neck Loose Dolman Sleeve Tops Bohemian Chiffon Blouse T Shirt\n",
      "\t\t▲ tank,pattern,blouse,top,shoulder,fat,center,shirt,sheer,skinny,jean,print,tag,slot,summer,sleeve,front,roomy,ready,orange\n",
      "\t\t∩ black,color,shirt\n",
      "\t3) Allegra K Women Mock Neck Top Panel Tops Casual Tops Slim Fit Shirt,X-Small / US 2,Black\n",
      "\t\t▲ sleeve,allegra,blouse,lace,business,shirt,top,xs,skeptical,actual,elegant,weather,clothe,casual,form,delicate,classic,average,buck,multiple\n",
      "\t\t∩ black,color,shirt\n",
      "\t4) Doublju Loose Fit Ruffle Cap Sleeve Lace Blouse Top (Plus Size Available) Fuchsia Large\n",
      "\t\t▲ lace,sleeve,shirt,normal,capris,tummy,flattering,blouse,hole,pajama,top,exchange,amazon,wrinkle,curve,label,red,pre,several,upper\n",
      "\t\t∩ black,color,shirt\n"
     ]
    },
    {
     "name": "stderr",
     "output_type": "stream",
     "text": [
      "/media/nas/pperez/conda/ns3/envs/ETeR-X/lib/python3.9/site-packages/sklearn/utils/validation.py:723: FutureWarning: np.matrix usage is deprecated in 1.0 and will raise a TypeError in 1.2. Please convert to a numpy array with np.asarray. For more information see: https://numpy.org/doc/stable/reference/generated/numpy.matrix.html\n",
      "  warnings.warn(\n"
     ]
    }
   ],
   "source": [
    "model_a.eval_custom_text(\"I want a shirt in any color but black\")"
   ]
  },
  {
   "cell_type": "code",
   "execution_count": 12,
   "metadata": {},
   "outputs": [
    {
     "name": "stdout",
     "output_type": "stream",
     "text": [
      "\n",
      "\n",
      "\u001b[92m[INFO] '¿Algún museo no muy grande?'\u001b[0m\n",
      "\tBOW: algun,grande,museo\n",
      "\t1) American Museum of Natural History\n",
      "\t\t▲ dinosaurio,animal,roosevelt,west,sugerido,especie,donacion,viejo,ciencia,exhibicion,natural,niño,eeuu,chico,seccion,museo,washington,citypass,abandonado,naturaleza\n",
      "\t\t∩ museo,algun,grande\n",
      "\t2) El Museo Metropolitano de Arte\n",
      "\t\t▲ egipto,egipcio,terraza,sugerido,met,donacion,medieval,reja,templo,cultural,cafeteria,impresionista,fantastica,cultura,arte,pintura,europeo,pieza,expuesto,museo\n",
      "\t\t∩ museo,algun,grande\n",
      "\t3) The Museum of Modern Art (MoMA)\n",
      "\t\t▲ viernes,moma,patio,moderno,quinto,abrigo,helicoptero,picasso,store,gogh,lluvia,permanente,arte,cuadro,direccion,souvenirs,mundial,planta,audio,mar\n",
      "\t\t∩ museo,algun,grande\n",
      "\t4) Central Park\n",
      "\t\t▲ alicia,lago,caballo,ejercicio,pulmon,zoo,deporte,bicicleta,bici,bicis,natural,castillo,metropolitano,laguna,zoologico,sendero,carrito,dakota,ardilla,naturaleza\n",
      "\t\t∩ museo,algun,grande\n"
     ]
    },
    {
     "name": "stderr",
     "output_type": "stream",
     "text": [
      "/media/nas/pperez/conda/ns3/envs/ETeR-X/lib/python3.9/site-packages/sklearn/utils/validation.py:723: FutureWarning: np.matrix usage is deprecated in 1.0 and will raise a TypeError in 1.2. Please convert to a numpy array with np.asarray. For more information see: https://numpy.org/doc/stable/reference/generated/numpy.matrix.html\n",
      "  warnings.warn(\n"
     ]
    }
   ],
   "source": [
    "model_p.eval_custom_text(\"¿Algún museo no muy grande?\")"
   ]
  },
  {
   "cell_type": "code",
   "execution_count": 13,
   "metadata": {},
   "outputs": [
    {
     "name": "stdout",
     "output_type": "stream",
     "text": [
      "\n",
      "\n",
      "\u001b[92m[INFO] 'Any cheap place to eat? I do not eat meat'\u001b[0m\n",
      "\tBOW: cheap,meat,place\n",
      "\t1) Churrascaria Plataforma\n",
      "\t\t▲ brazilian,meat,maitre,cart,buffet,carve,brazil,pace,skewer,angel,tribeca,parade,sirloin,salad,parking,particular,plentiful,green,feast,supply\n",
      "\t\t∩ cheap,meat,place\n",
      "\t2) Fogo de Chao Brazilian Steakhouse\n",
      "\t\t▲ moma,brazilian,polenta,meat,brazil,buffet,unlimited,chicago,skewer,lime,banana,lamb,sirloin,premium,salad,bottom,slab,pineapple,miami,diverse\n",
      "\t\t∩ cheap,meat,place\n",
      "\t3) Bowery Meat Company\n",
      "\t\t▲ meat,lasagna,ricotta,company,steakhouse,ribeye,bone,steak,wagyu,devil,sommelier,strip,broil,chef,duck,peter,luger,score,lasagne,oyster\n",
      "\t\t∩ cheap,meat,place\n",
      "\t4) Quality Meats\n",
      "\t\t▲ cherry,meat,sticky,corn,filet,brulee,waffle,jalapeño,bone,assistant,peanut,steakhouse,steak,charcuterie,aged,parmesan,plaza,fillet,butternut,porterhouse\n",
      "\t\t∩ cheap,meat,place\n"
     ]
    },
    {
     "name": "stderr",
     "output_type": "stream",
     "text": [
      "/media/nas/pperez/conda/ns3/envs/ETeR-X/lib/python3.9/site-packages/sklearn/utils/validation.py:723: FutureWarning: np.matrix usage is deprecated in 1.0 and will raise a TypeError in 1.2. Please convert to a numpy array with np.asarray. For more information see: https://numpy.org/doc/stable/reference/generated/numpy.matrix.html\n",
      "  warnings.warn(\n"
     ]
    }
   ],
   "source": [
    "model_r.eval_custom_text(\"Any cheap place to eat? I do not eat meat\")"
   ]
  }
 ],
 "metadata": {
  "kernelspec": {
   "display_name": "ETeR-X",
   "language": "python",
   "name": "python3"
  },
  "language_info": {
   "codemirror_mode": {
    "name": "ipython",
    "version": 3
   },
   "file_extension": ".py",
   "mimetype": "text/x-python",
   "name": "python",
   "nbconvert_exporter": "python",
   "pygments_lexer": "ipython3",
   "version": "3.9.18"
  }
 },
 "nbformat": 4,
 "nbformat_minor": 2
}
