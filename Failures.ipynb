{
 "cells": [
  {
   "cell_type": "markdown",
   "metadata": {},
   "source": [
    "# Failure cases"
   ]
  },
  {
   "cell_type": "markdown",
   "metadata": {},
   "source": [
    "## 1. Load one model for each dataset"
   ]
  },
  {
   "cell_type": "code",
   "execution_count": null,
   "metadata": {},
   "outputs": [],
   "source": [
    "from src.experiments.Common import load_best_model\n",
    "\n",
    "model_name = \"BOW2ITM\" # This is the internal name of ETeR-X.\n",
    "dataset = \"restaurants\" # Restaurants dataset\n",
    "subset = \"newyorkcity\" # NYC subset\n",
    "\n",
    "# Load best hyperparameters\n",
    "model_r = load_best_model(model=model_name, dataset=dataset, subset=subset)\n",
    "# Load model weights\n",
    "model_r.train(dev=False, save_model=True)\n",
    "\n",
    "\n",
    "dataset = \"pois\" # Restaurants dataset\n",
    "subset = \"newyorkcity\" # NYC subset\n",
    "\n",
    "# Load best hyperparameters\n",
    "model_p = load_best_model(model=model_name, dataset=dataset, subset=subset)\n",
    "# Load model weights\n",
    "model_p.train(dev=False, save_model=True)\n",
    "\n",
    "dataset = \"amazon\" # Restaurants dataset\n",
    "subset = \"fashion\" # NYC subset\n",
    "\n",
    "# Load best hyperparameters\n",
    "model_a = load_best_model(model=model_name, dataset=dataset, subset=subset)\n",
    "# Load model weights\n",
    "model_a.train(dev=False, save_model=True)"
   ]
  },
  {
   "cell_type": "markdown",
   "metadata": {},
   "source": [
    "## 2. Lack of adjectives or nouns\n",
    "Legend:\n",
    "* ▲ Relevant words in the item.\n",
    "* ∩ Intersection between the query and ▲."
   ]
  },
  {
   "cell_type": "code",
   "execution_count": null,
   "metadata": {},
   "outputs": [],
   "source": [
    "model_a.eval_custom_text(\"What do you recommend me to buy?\")\n",
    "model_a.eval_custom_text(\"What can i buy?\")"
   ]
  },
  {
   "cell_type": "code",
   "execution_count": 77,
   "metadata": {},
   "outputs": [
    {
     "name": "stdout",
     "output_type": "stream",
     "text": [
      "\n",
      "\n",
      "\u001b[92m[INFO] 'Qué me recomiendas visitar?'\u001b[0m\n",
      "\tBOW: \n",
      "\t1) [] Observatorio Top of the Rock\n",
      "\t\t▲ turno,cristal,complejo,elevador,vidrio,empire,cima,nivel,rockefeller,observatorio,ascensor,nublado,altura,camara,chrysler,terraza,vistas,acceso,situado,vista\n",
      "\t\t∩ \n",
      "\t2) [] Neue Galerie\n",
      "\t\t▲ dedicado,cuadro,estrella,siglo,galeria,cafe,principio,regalo,met,joya,muestra,exhibicion,pequeño,dudas,voluntario,pintura,sero,cafeteria,shop,chico\n",
      "\t\t∩ \n",
      "\t3) [] Meatpacking District\n",
      "\t\t▲ moda,distrito,high,viejo,barrio,museum,meatpacking,trav,recorri,bar,district,permanente,anticipacion,west,nocturno,diseño,line,restaurante,esquina,market\n",
      "\t\t∩ \n",
      "\t4) [] Love Sculpture\n",
      "\t\t▲ escultura,art,moma,turno,esquina,zapato,similar,romantico,icono,tipica,foto,tenia,buenisimo,vivo,tamaño,th,disponible,situado,viajero,urbano\n",
      "\t\t∩ \n",
      "\n",
      "\n",
      "\u001b[92m[INFO] 'Que puedo visitar?'\u001b[0m\n",
      "\tBOW: \n",
      "\t1) [] Observatorio Top of the Rock\n",
      "\t\t▲ turno,cristal,complejo,elevador,vidrio,empire,cima,nivel,rockefeller,observatorio,ascensor,nublado,altura,camara,chrysler,terraza,vistas,acceso,situado,vista\n",
      "\t\t∩ \n",
      "\t2) [] Neue Galerie\n",
      "\t\t▲ dedicado,cuadro,estrella,siglo,galeria,cafe,principio,regalo,met,joya,muestra,exhibicion,pequeño,dudas,voluntario,pintura,sero,cafeteria,shop,chico\n",
      "\t\t∩ \n",
      "\t3) [] Meatpacking District\n",
      "\t\t▲ moda,distrito,high,viejo,barrio,museum,meatpacking,trav,recorri,bar,district,permanente,anticipacion,west,nocturno,diseño,line,restaurante,esquina,market\n",
      "\t\t∩ \n",
      "\t4) [] Love Sculpture\n",
      "\t\t▲ escultura,art,moma,turno,esquina,zapato,similar,romantico,icono,tipica,foto,tenia,buenisimo,vivo,tamaño,th,disponible,situado,viajero,urbano\n",
      "\t\t∩ \n"
     ]
    },
    {
     "name": "stderr",
     "output_type": "stream",
     "text": [
      "/media/nas/pperez/conda/ns3/envs/ETeR-X/lib/python3.9/site-packages/sklearn/utils/validation.py:723: FutureWarning: np.matrix usage is deprecated in 1.0 and will raise a TypeError in 1.2. Please convert to a numpy array with np.asarray. For more information see: https://numpy.org/doc/stable/reference/generated/numpy.matrix.html\n",
      "  warnings.warn(\n",
      "/media/nas/pperez/conda/ns3/envs/ETeR-X/lib/python3.9/site-packages/sklearn/utils/validation.py:723: FutureWarning: np.matrix usage is deprecated in 1.0 and will raise a TypeError in 1.2. Please convert to a numpy array with np.asarray. For more information see: https://numpy.org/doc/stable/reference/generated/numpy.matrix.html\n",
      "  warnings.warn(\n"
     ]
    }
   ],
   "source": [
    "model_p.eval_custom_text(\"¿Qué me recomiendas visitar?\")\n",
    "model_p.eval_custom_text(\"¿Qué puedo visitar?\")"
   ]
  },
  {
   "cell_type": "code",
   "execution_count": null,
   "metadata": {},
   "outputs": [],
   "source": [
    "model_r.eval_custom_text(\"Where do you recommend me to eat?\")\n",
    "model_r.eval_custom_text(\"Where can i eat?\")"
   ]
  },
  {
   "cell_type": "markdown",
   "metadata": {},
   "source": [
    "### Are ranked by relevance?"
   ]
  },
  {
   "cell_type": "code",
   "execution_count": null,
   "metadata": {},
   "outputs": [],
   "source": [
    "model_a.DATASET.DATA[\"TRAIN_DEV\"].groupby(\"name\").size().sort_values(ascending=False)[:4]"
   ]
  },
  {
   "cell_type": "code",
   "execution_count": null,
   "metadata": {},
   "outputs": [],
   "source": [
    "model_p.DATASET.DATA[\"TRAIN_DEV\"].groupby(\"name\").size().sort_values(ascending=False)[:4]"
   ]
  },
  {
   "cell_type": "code",
   "execution_count": null,
   "metadata": {},
   "outputs": [],
   "source": [
    "model_r.DATASET.DATA[\"TRAIN_DEV\"].groupby(\"name\").size().sort_values(ascending=False)[:4]"
   ]
  },
  {
   "cell_type": "markdown",
   "metadata": {},
   "source": [
    "### Are ranked by percentage of empty reviews?"
   ]
  },
  {
   "cell_type": "code",
   "execution_count": null,
   "metadata": {},
   "outputs": [],
   "source": [
    "def get_pctg_empty_reviews(model, top=4):\n",
    "    ret = model.DATASET.DATA[\"TRAIN_DEV\"].groupby(\"name\").apply(lambda x:1-((model.DATASET.DATA[\"BOW_SEQUENCES\"][x[\"bow\"].values].sum(axis=1).sum())/len(x))).sort_values(ascending=False).head(top)\n",
    "    print(ret)\n",
    "    \n",
    "get_pctg_empty_reviews(model_a)"
   ]
  },
  {
   "cell_type": "code",
   "execution_count": null,
   "metadata": {},
   "outputs": [],
   "source": [
    "get_pctg_empty_reviews(model_p)"
   ]
  },
  {
   "cell_type": "code",
   "execution_count": null,
   "metadata": {},
   "outputs": [],
   "source": [
    "get_pctg_empty_reviews(model_r)"
   ]
  },
  {
   "cell_type": "markdown",
   "metadata": {},
   "source": [
    "## 3. Negative"
   ]
  },
  {
   "cell_type": "code",
   "execution_count": null,
   "metadata": {},
   "outputs": [],
   "source": [
    "model_a.eval_custom_text(\"I want a shirt in any color but black\")"
   ]
  },
  {
   "cell_type": "code",
   "execution_count": 80,
   "metadata": {},
   "outputs": [
    {
     "name": "stdout",
     "output_type": "stream",
     "text": [
      "\n",
      "\n",
      "\u001b[92m[INFO] '¿Algún museo no muy grande?'\u001b[0m\n",
      "\tBOW: algun,grande,museo\n",
      "\t1) [] American Museum of Natural History\n",
      "\t\t▲ dinosaurio,animal,roosevelt,west,sugerido,especie,donacion,viejo,ciencia,exhibicion,natural,niño,eeuu,chico,seccion,museo,washington,citypass,abandonado,naturaleza\n",
      "\t\t∩ museo,algun,grande\n",
      "\t2) [] El Museo Metropolitano de Arte\n",
      "\t\t▲ egipto,egipcio,terraza,sugerido,met,donacion,medieval,reja,templo,cultural,cafeteria,impresionista,fantastica,cultura,arte,pintura,europeo,pieza,expuesto,museo\n",
      "\t\t∩ museo,algun,grande\n",
      "\t3) [] The Museum of Modern Art (MoMA)\n",
      "\t\t▲ viernes,moma,patio,moderno,quinto,abrigo,helicoptero,picasso,store,gogh,lluvia,permanente,arte,cuadro,direccion,souvenirs,mundial,planta,audio,mar\n",
      "\t\t∩ museo,algun,grande\n",
      "\t4) [] Central Park\n",
      "\t\t▲ alicia,lago,caballo,ejercicio,pulmon,zoo,deporte,bicicleta,bici,bicis,natural,castillo,metropolitano,laguna,zoologico,sendero,carrito,dakota,ardilla,naturaleza\n",
      "\t\t∩ museo,algun,grande\n"
     ]
    },
    {
     "name": "stderr",
     "output_type": "stream",
     "text": [
      "/media/nas/pperez/conda/ns3/envs/ETeR-X/lib/python3.9/site-packages/sklearn/utils/validation.py:723: FutureWarning: np.matrix usage is deprecated in 1.0 and will raise a TypeError in 1.2. Please convert to a numpy array with np.asarray. For more information see: https://numpy.org/doc/stable/reference/generated/numpy.matrix.html\n",
      "  warnings.warn(\n"
     ]
    }
   ],
   "source": [
    "model_p.eval_custom_text(\"¿Algún museo no muy grande?\")"
   ]
  },
  {
   "cell_type": "code",
   "execution_count": null,
   "metadata": {},
   "outputs": [],
   "source": [
    "model_r.eval_custom_text(\"Any cheap place to eat? I do not eat meat\")"
   ]
  }
 ],
 "metadata": {
  "kernelspec": {
   "display_name": "ETeR-X",
   "language": "python",
   "name": "python3"
  },
  "language_info": {
   "codemirror_mode": {
    "name": "ipython",
    "version": 3
   },
   "file_extension": ".py",
   "mimetype": "text/x-python",
   "name": "python",
   "nbconvert_exporter": "python",
   "pygments_lexer": "ipython3",
   "version": "3.9.18"
  }
 },
 "nbformat": 4,
 "nbformat_minor": 2
}
